{
 "cells": [
  {
   "cell_type": "markdown",
   "metadata": {},
   "source": [
    "# Network 1\n",
    "\n",
    "A module to implement the stochastic gradient descent learning algorithm for a feedforward neural network.  Gradients are calculated using backpropagation.\n",
    "\n",
    "___"
   ]
  },
  {
   "cell_type": "markdown",
   "metadata": {},
   "source": [
    "### Importing libraries"
   ]
  },
  {
   "cell_type": "code",
   "execution_count": 1,
   "metadata": {},
   "outputs": [],
   "source": [
    "# Standard library\n",
    "import random\n",
    "import pickle\n",
    "import gzip\n",
    "\n",
    "# Third-party libraries\n",
    "import numpy as np\n",
    "import matplotlib.pyplot as plt"
   ]
  },
  {
   "cell_type": "markdown",
   "metadata": {},
   "source": [
    "### Miscellaneous functions\n",
    "#### The sigmoid function and its derivative.\n",
    "\n",
    "$$ \\sigma (z) =  \\frac{\\mathrm{1} }{\\mathrm{1} + e^{-z} }  $$ \n",
    "$$ \\sigma ^{'} (z) =  \\sigma (z) \\times (1- \\sigma (z))  $$ "
   ]
  },
  {
   "cell_type": "code",
   "execution_count": 2,
   "metadata": {},
   "outputs": [
    {
     "data": {
      "image/png": "[encoded data removed]",
      "text/plain": [
       "<Figure size 1080x360 with 2 Axes>"
      ]
     },
     "metadata": {},
     "output_type": "display_data"
    }
   ],
   "source": [
    "def sigmoid(z):\n",
    "    return 1.0/(1.0+np.exp(-z))\n",
    "def sigmoid_prime(z):\n",
    "    return sigmoid(z)*(1-sigmoid(z))\n",
    "\n",
    "plt.rcParams['figure.figsize'] = 15, 5\n",
    "plt.subplot(211);plt.plot(np.linspace(-5,5,100),sigmoid(np.linspace(-5,5,100)));plt.ylabel('sigmoid(x)')\n",
    "plt.subplot(212);plt.plot(np.linspace(-5,5,100),sigmoid_prime(np.linspace(-5,5,100)),color='orange');plt.ylabel('sigmoid_prime(x)')\n",
    "plt.show()"
   ]
  },
  {
   "cell_type": "markdown",
   "metadata": {},
   "source": [
    "### Creating the Network class\n",
    "> All the methods associated to the network will be added next"
   ]
  },
  {
   "cell_type": "code",
   "execution_count": 3,
   "metadata": {},
   "outputs": [],
   "source": [
    "class Network(object):\n",
    "    pass"
   ]
  },
  {
   "cell_type": "markdown",
   "metadata": {},
   "source": [
    "### `__init__(self, sizes)`\n",
    "The list `sizes` contains the number of neurons in the respective layers of the network.  For example, if the list was `[2, 3, 1]` then it would be a three-layer network, with the first layer containing 2 neurons, the second layer 3 neurons, and the third layer 1 neuron.  \n",
    "\n",
    "$$\n",
    "    sizes = [3, 4, 2]\n",
    "    \\rightarrow \\begin{matrix} \n",
    "    \\begin{matrix} ○ \\\\ ○ \\\\ ○  \\end{matrix} \n",
    "    & \\begin{matrix} ○  \\\\ ○ \\\\ ○ \\\\ ○  \\end{matrix} \n",
    "    & \\begin{matrix} ○  \\\\ ○  \\end{matrix} \n",
    "    \\end{matrix}\n",
    "$$\n",
    "\n",
    "The biases and weights for the network are initialized randomly, using a Gaussian distribution with mean 0, and variance 1.\n",
    "\n",
    "$$\n",
    "    num\\_layers = 3\n",
    "$$  \n",
    "$$\n",
    "    biases =\n",
    "    \\begin{bmatrix} \n",
    "    \\begin{pmatrix} \\cdot \\\\ \\cdot \\\\ \\cdot  \\end{pmatrix},\n",
    "    &\\begin{pmatrix} \\cdot  \\\\ \\cdot \\\\ \\cdot \\\\ \\cdot  \\end{pmatrix},\n",
    "    &\\begin{pmatrix} \\cdot  \\\\ \\cdot  \\end{pmatrix} \n",
    "    \\end{bmatrix}  \n",
    "$$  \n",
    "$$\n",
    "    weights =\n",
    "    \\begin{bmatrix} \n",
    "        \\begin{pmatrix} \n",
    "            \\cdot & \\cdot & \\cdot \n",
    "            \\\\ \\cdot & \\cdot & \\cdot\n",
    "            \\\\ \\cdot & \\cdot & \\cdot\n",
    "            \\\\ \\cdot & \\cdot & \\cdot\n",
    "        \\end{pmatrix},\n",
    "        &\\begin{pmatrix} \n",
    "            \\cdot & \\cdot & \\cdot & \\cdot  \n",
    "            \\\\ \\cdot & \\cdot & \\cdot & \\cdot \n",
    "        \\end{pmatrix}\n",
    "    \\end{bmatrix}\n",
    "$$\n",
    "\n",
    "> Note that the first layer is assumed to be an input layer, and by convention we won't set any biases for those neurons, since biases are only ever used in computing the outputs from later layers."
   ]
  },
  {
   "cell_type": "code",
   "execution_count": 4,
   "metadata": {},
   "outputs": [],
   "source": [
    "def __init__(self, sizes):\n",
    "    self.num_layers = len(sizes)\n",
    "    self.sizes = sizes\n",
    "    self.biases = [np.random.randn(y, 1) for y in sizes[1:]] # [1:] => start at index 1, up to the end\n",
    "    self.weights = [np.random.randn(y, x) for x, y in zip(sizes[:-1], sizes[1:])] # [:-1] => all elements of the sequence but the last\n",
    "  \n",
    "Network.__init__=__init__"
   ]
  },
  {
   "cell_type": "markdown",
   "metadata": {},
   "source": [
    "### `feedforward(self, a)`\n",
    "given an input a for the network, returns the corresponding output.\n",
    "> It is assumed that the input a is an (n, 1) Numpy ndarray, not a (n,) vector. Here, n is the number of inputs to the network. If you try to use an (n,) vector as input you'll get strange results. Although using an (n,) vector appears the more natural choice, using an (n, 1) ndarray makes it particularly easy to modify the code to feedforward multiple inputs at once, and that is sometimes convenient."
   ]
  },
  {
   "cell_type": "code",
   "execution_count": 5,
   "metadata": {},
   "outputs": [],
   "source": [
    "def feedforward(self, a):\n",
    "        for b, w in zip(self.biases, self.weights):\n",
    "            a = sigmoid(np.dot(w, a)+b)\n",
    "        return a\n",
    "\n",
    "Network.feedforward=feedforward"
   ]
  },
  {
   "cell_type": "markdown",
   "metadata": {},
   "source": [
    "### `SGD(self, training_data, epochs, mini_batch_size, eta, test_data=None)`\n",
    "Train the neural network using mini-batch stochastic gradient descent.\n",
    "\n",
    "- The `training_data` is a list of tuples `(x, y)` representing the training inputs and the desired outputs. \n",
    "- The variables `epochs` and `mini_batch_size` are what you'd expect - the number of epochs to train for, and the size of the mini-batches to use when sampling.\n",
    "- `eta` is the learning rate $ \\eta $.\n",
    "- If `test_data` is provided then the network will be evaluated against the test data after each epoch, and partial progress printed out.  This is useful for tracking progress, but slows things down substantially.\n",
    "\n",
    "In each epoch, it starts by randomly shuffling the `training data`, and then partitions it into `mini-batches` of the appropriate size. This is an easy way of sampling randomly from the `training data`. Then for each `mini_batch` we apply a single step of gradient descent. This is done by the code `self.update_mini_batch(mini_batch, eta)`, which updates the network `weights` and `biases` according to a single iteration of gradient descent, using just the `training data` in `mini_batch`."
   ]
  },
  {
   "cell_type": "code",
   "execution_count": 6,
   "metadata": {},
   "outputs": [],
   "source": [
    "def SGD(self, training_data, epochs, mini_batch_size, eta,\n",
    "    test_data=None):\n",
    "    results = []\n",
    "    training_data = list(training_data)\n",
    "    n = len(training_data)\n",
    "\n",
    "    if test_data:\n",
    "        test_data = list(test_data)\n",
    "        n_test = len(test_data)\n",
    "\n",
    "    for j in range(epochs):\n",
    "        random.shuffle(training_data)\n",
    "        mini_batches = [\n",
    "            training_data[k:k+mini_batch_size]\n",
    "            for k in range(0, n, mini_batch_size)]\n",
    "        for mini_batch in mini_batches:\n",
    "            self.update_mini_batch(mini_batch, eta)\n",
    "        if test_data:\n",
    "            print(\"Epoch {} : {} / {}\".format(j,self.evaluate(test_data),n_test));\n",
    "        else:\n",
    "            print(\"Epoch {} complete\".format(j))\n",
    "        results.append(self.evaluate(test_data))\n",
    "    return results\n",
    "\n",
    "Network.SGD=SGD"
   ]
  },
  {
   "cell_type": "markdown",
   "metadata": {},
   "source": [
    "### `update_mini_batch(self, mini_batch, eta)`\n",
    "Update the network's weights and biases by applying gradient descent using backpropagation to a single mini batch.\n",
    "- The `mini_batch` is a list of tuples `(x, y)`\n",
    "- `eta` is the learning rate.\n",
    "\n",
    "This invokes something called the backpropagation algorithm, which is a fast way of computing the gradient of the cost function $ \\nabla C$. So `update_mini_batch` works simply by computing these gradients for every training example in the `mini_batch`, and then updating `self.weights` and `self.biases` appropriately."
   ]
  },
  {
   "cell_type": "code",
   "execution_count": 7,
   "metadata": {},
   "outputs": [],
   "source": [
    "def update_mini_batch(self, mini_batch, eta):\n",
    "    nabla_b = [np.zeros(b.shape) for b in self.biases]\n",
    "    nabla_w = [np.zeros(w.shape) for w in self.weights]\n",
    "    for x, y in mini_batch:\n",
    "        delta_nabla_b, delta_nabla_w = self.backprop(x, y)\n",
    "        nabla_b = [nb+dnb for nb, dnb in zip(nabla_b, delta_nabla_b)]\n",
    "        nabla_w = [nw+dnw for nw, dnw in zip(nabla_w, delta_nabla_w)]\n",
    "    self.weights = [w-(eta/len(mini_batch))*nw\n",
    "                    for w, nw in zip(self.weights, nabla_w)]\n",
    "    self.biases = [b-(eta/len(mini_batch))*nb\n",
    "                   for b, nb in zip(self.biases, nabla_b)]\n",
    "        \n",
    "Network.update_mini_batch=update_mini_batch"
   ]
  },
  {
   "cell_type": "markdown",
   "metadata": {},
   "source": [
    "### `backprop(self, x, y)`\n",
    "Return a tuple `(nabla_b, nabla_w)` representing the gradient for the cost function C_x.\n",
    "\n",
    "`nabla_b` and `nabla_w` are layer-by-layer lists of numpy arrays, similar to `self.biases` and `self.weights`."
   ]
  },
  {
   "cell_type": "code",
   "execution_count": 8,
   "metadata": {},
   "outputs": [],
   "source": [
    "def backprop(self, x, y):\n",
    "\n",
    "    nabla_b = [np.zeros(b.shape) for b in self.biases]\n",
    "    nabla_w = [np.zeros(w.shape) for w in self.weights]\n",
    "    # feedforward\n",
    "    activation = x\n",
    "    activations = [x] # list to store all the activations, layer by layer\n",
    "    zs = [] # list to store all the z vectors, layer by layer\n",
    "    for b, w in zip(self.biases, self.weights):\n",
    "        z = np.dot(w, activation)+b\n",
    "        zs.append(z)\n",
    "        activation = sigmoid(z)\n",
    "        activations.append(activation)\n",
    "    # backward pass\n",
    "    delta = self.cost_derivative(activations[-1], y) * \\\n",
    "        sigmoid_prime(zs[-1])\n",
    "    nabla_b[-1] = delta\n",
    "    nabla_w[-1] = np.dot(delta, activations[-2].transpose())\n",
    "    # Note that the variable l in the loop below is used a little\n",
    "    # differently to the notation in Chapter 2 of the book.  Here,\n",
    "    # l = 1 means the last layer of neurons, l = 2 is the\n",
    "    # second-last layer, and so on.  It's a renumbering of the\n",
    "    # scheme in the book, used here to take advantage of the fact\n",
    "    # that Python can use negative indices in lists.\n",
    "    for l in range(2, self.num_layers):\n",
    "        z = zs[-l]\n",
    "        sp = sigmoid_prime(z)\n",
    "        delta = np.dot(self.weights[-l+1].transpose(), delta) * sp\n",
    "        nabla_b[-l] = delta\n",
    "        nabla_w[-l] = np.dot(delta, activations[-l-1].transpose())\n",
    "    return (nabla_b, nabla_w)\n",
    "    \n",
    "Network.backprop=backprop"
   ]
  },
  {
   "cell_type": "markdown",
   "metadata": {},
   "source": [
    "### `evaluate(self, test_data)`\n",
    "Return the number of test inputs for which the neural network outputs the correct result. \n",
    "\n",
    "Note that the neural network's output is assumed to be the index of whichever neuron in the final layer has the highest activation."
   ]
  },
  {
   "cell_type": "code",
   "execution_count": 9,
   "metadata": {},
   "outputs": [],
   "source": [
    "def evaluate(self, test_data):\n",
    "        test_results = [(np.argmax(self.feedforward(x)), y)\n",
    "                        for (x, y) in test_data]\n",
    "        return sum(int(x == y) for (x, y) in test_results)\n",
    "    \n",
    "Network.evaluate=evaluate"
   ]
  },
  {
   "cell_type": "markdown",
   "metadata": {},
   "source": [
    "### `cost_derivative(self, output_activations, y)`\n",
    "Return the vector of partial derivatives \\partial C_x / \\partial a for the output activations."
   ]
  },
  {
   "cell_type": "code",
   "execution_count": 10,
   "metadata": {},
   "outputs": [],
   "source": [
    "def cost_derivative(self, output_activations, y):\n",
    "        return (output_activations-y)\n",
    "    \n",
    "Network.cost_derivative=cost_derivative"
   ]
  },
  {
   "cell_type": "markdown",
   "metadata": {},
   "source": [
    "___\n",
    "\n",
    "# MNIST_loader\n",
    "\n",
    "A library to load the MNIST image data.  For details of the data structures that are returned, see the doc strings for `load_data` and `load_data_wrapper`.  \n",
    "\n",
    "In practice, `load_data_wrapper` is the function usually called by our neural network code.\n",
    "\n",
    "___"
   ]
  },
  {
   "cell_type": "markdown",
   "metadata": {},
   "source": [
    "### `Load_data()`\n",
    "\n",
    "Return the MNIST data as a tuple containing the training data, the validation data, and the test data.\n",
    "\n",
    "The ``training_data`` is returned as a tuple with two entries.\n",
    "\n",
    "The first entry contains the actual training images.  This is a numpy ndarray with 50,000 entries.  Each entry is, in turn, a numpy ndarray with 784 values, representing the 28 * 28 = 784 pixels in a single MNIST image.\n",
    "\n",
    "The second entry in the ``training_data`` tuple is a numpy ndarray containing 50,000 entries.  Those entries are just the digit values (0...9) for the corresponding images contained in the first entry of the tuple.\n",
    "\n",
    "The ``validation_data`` and ``test_data`` are similar, except each contains only 10,000 images. \n",
    "\n",
    "This is a nice data format, but for use in neural networks it's helpful to modify the format of the ``training_data`` a little. That's done in the wrapper function ``load_data_wrapper()``, see below."
   ]
  },
  {
   "cell_type": "code",
   "execution_count": 11,
   "metadata": {},
   "outputs": [],
   "source": [
    "def load_data():\n",
    "    f = gzip.open('mnist.pkl.gz', 'rb')\n",
    "    training_data, validation_data, test_data = pickle.load(f, encoding=\"latin1\")\n",
    "    f.close()\n",
    "    return (training_data, validation_data, test_data)"
   ]
  },
  {
   "cell_type": "markdown",
   "metadata": {},
   "source": [
    "### `load_data_wrapper()`\n",
    "\n",
    "Return a tuple containing ``(training_data, validation_data, test_data)``. Based on ``load_data``, but the format is more convenient for use in our implementation of neural networks. \n",
    "\n",
    "In particular, ``training_data`` is a list containing 50,000 2-tuples ``(x, y)``.  \n",
    "\n",
    "``x`` is a 784-dimensional numpy.ndarray containing the input image.  \n",
    "\n",
    "``y`` is a 10-dimensional numpy.ndarray representing the unit vector corresponding to the correct digit for ``x``. \n",
    "\n",
    "``validation_data`` and ``test_data`` are lists containing 10,000 2-tuples ``(x, y)``.  In each case, ``x`` is a 784-dimensional numpy.ndarry containing the input image, and ``y`` is the corresponding classification, i.e., the digit values (integers)corresponding to ``x``.\n",
    "\n",
    "Obviously, this means we're using slightly different formats for the training data and the validation / test data.  These formats turn out to be the most convenient for use in our neural network code."
   ]
  },
  {
   "cell_type": "code",
   "execution_count": 12,
   "metadata": {},
   "outputs": [],
   "source": [
    "def load_data_wrapper():\n",
    "    tr_d, va_d, te_d = load_data()\n",
    "    training_inputs = [np.reshape(x, (784, 1)) for x in tr_d[0]]\n",
    "    training_results = [vectorized_result(y) for y in tr_d[1]]\n",
    "    training_data = zip(training_inputs, training_results)\n",
    "    validation_inputs = [np.reshape(x, (784, 1)) for x in va_d[0]]\n",
    "    validation_data = zip(validation_inputs, va_d[1])\n",
    "    test_inputs = [np.reshape(x, (784, 1)) for x in te_d[0]]\n",
    "    test_data = zip(test_inputs, te_d[1])\n",
    "    return (training_data, validation_data, test_data)"
   ]
  },
  {
   "cell_type": "markdown",
   "metadata": {},
   "source": [
    "### `vectorized_result(j)`\n",
    "\n",
    "Return a 10-dimensional unit vector with a 1.0 in the jth position and zeroes elsewhere.  This is used to convert a digit (0...9) into a corresponding desired output from the neural network."
   ]
  },
  {
   "cell_type": "code",
   "execution_count": 13,
   "metadata": {},
   "outputs": [],
   "source": [
    "def vectorized_result(j):\n",
    "    e = np.zeros((10, 1))\n",
    "    e[j] = 1.0\n",
    "    return e"
   ]
  },
  {
   "cell_type": "markdown",
   "metadata": {},
   "source": [
    "___\n",
    "\n",
    "# Testing the network\n",
    "\n",
    "___"
   ]
  },
  {
   "cell_type": "code",
   "execution_count": 14,
   "metadata": {},
   "outputs": [],
   "source": [
    "training_data, validation_data, test_data = load_data_wrapper()"
   ]
  },
  {
   "cell_type": "code",
   "execution_count": 15,
   "metadata": {},
   "outputs": [],
   "source": [
    "net = Network([784, 30, 10])"
   ]
  },
  {
   "cell_type": "code",
   "execution_count": 16,
   "metadata": {
    "scrolled": false
   },
   "outputs": [
    {
     "name": "stdout",
     "output_type": "stream",
     "text": [
      "Epoch 0 : 8303 / 10000\n",
      "Epoch 1 : 9235 / 10000\n",
      "Epoch 2 : 9344 / 10000\n",
      "Epoch 3 : 9288 / 10000\n",
      "Epoch 4 : 9359 / 10000\n",
      "Epoch 5 : 9327 / 10000\n",
      "Epoch 6 : 9410 / 10000\n",
      "Epoch 7 : 9405 / 10000\n",
      "Epoch 8 : 9420 / 10000\n",
      "Epoch 9 : 9413 / 10000\n",
      "Epoch 10 : 9449 / 10000\n",
      "Epoch 11 : 9435 / 10000\n",
      "Epoch 12 : 9460 / 10000\n",
      "Epoch 13 : 9462 / 10000\n",
      "Epoch 14 : 9452 / 10000\n",
      "Epoch 15 : 9418 / 10000\n",
      "Epoch 16 : 9493 / 10000\n",
      "Epoch 17 : 9468 / 10000\n",
      "Epoch 18 : 9460 / 10000\n",
      "Epoch 19 : 9472 / 10000\n",
      "Epoch 20 : 9498 / 10000\n",
      "Epoch 21 : 9468 / 10000\n",
      "Epoch 22 : 9477 / 10000\n",
      "Epoch 23 : 9502 / 10000\n",
      "Epoch 24 : 9472 / 10000\n",
      "Epoch 25 : 9504 / 10000\n",
      "Epoch 26 : 9493 / 10000\n",
      "Epoch 27 : 9527 / 10000\n",
      "Epoch 28 : 9494 / 10000\n",
      "Epoch 29 : 9466 / 10000\n",
      "[8303, 9235, 9344, 9288, 9359, 9327, 9410, 9405, 9420, 9413, 9449, 9435, 9460, 9462, 9452, 9418, 9493, 9468, 9460, 9472, 9498, 9468, 9477, 9502, 9472, 9504, 9493, 9527, 9494, 9466]\n"
     ]
    }
   ],
   "source": [
    "results = net.SGD(training_data, 30, 10, 3.0, test_data=test_data)"
   ]
  },
  {
   "cell_type": "code",
   "execution_count": 57,
   "metadata": {},
   "outputs": [
    {
     "data": {
      "image/png": "[encoded data removed]",
      "text/plain": [
       "<Figure size 1080x360 with 1 Axes>"
      ]
     },
     "metadata": {},
     "output_type": "display_data"
    }
   ],
   "source": [
    "import matplotlib.pyplot as plt\n",
    "\n",
    "results = [8303, 9235, 9344, 9288, 9359, 9327, 9410, 9405, 9420, 9413, 9449, 9435, 9460, 9462, 9452, 9418, 9493, 9468, 9460, 9472, 9498, 9468, 9477, 9502, 9472, 9504, 9493, 9527, 9494, 9466]\n",
    "\n",
    "def f(x):\n",
    "    return ((x)/10000)*100\n",
    "\n",
    "fig = plt.figure()\n",
    "ax = fig.gca()\n",
    "plt.plot(list(map(f,results)))\n",
    "plt.grid()\n",
    "plt.show()\n",
    "\n"
   ]
  },
  {
   "cell_type": "code",
   "execution_count": null,
   "metadata": {},
   "outputs": [],
   "source": []
  }
 ],
 "metadata": {
  "kernelspec": {
   "display_name": "Python 3",
   "language": "python",
   "name": "python3"
  },
  "language_info": {
   "codemirror_mode": {
    "name": "ipython",
    "version": 3
   },
   "file_extension": ".py",
   "mimetype": "text/x-python",
   "name": "python",
   "nbconvert_exporter": "python",
   "pygments_lexer": "ipython3",
   "version": "3.6.5"
  }
 },
 "nbformat": 4,
 "nbformat_minor": 2
}
